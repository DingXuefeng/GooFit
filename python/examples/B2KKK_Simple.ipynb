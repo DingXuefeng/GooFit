{
 "cells": [
  {
   "cell_type": "code",
   "execution_count": 1,
   "metadata": {},
   "outputs": [],
   "source": [
    "from goofit import *\n",
    "import matplotlib.pyplot as plt\n",
    "from matplotlib.colors import LogNorm\n",
    "from math import sqrt\n",
    "import numpy as np"
   ]
  },
  {
   "cell_type": "code",
   "execution_count": 2,
   "metadata": {},
   "outputs": [],
   "source": [
    "import goofit"
   ]
  },
  {
   "cell_type": "code",
   "execution_count": 3,
   "metadata": {},
   "outputs": [
    {
     "name": "stdout",
     "output_type": "stream",
     "text": [
      "GooFit: Version 2.3.0 (release) Commit: \n",
      "OMP: Number of threads: 40\n"
     ]
    }
   ],
   "source": [
    "print_goofit_info()"
   ]
  },
  {
   "cell_type": "markdown",
   "metadata": {},
   "source": [
    "## Setting constants"
   ]
  },
  {
   "cell_type": "code",
   "execution_count": 4,
   "metadata": {},
   "outputs": [],
   "source": [
    "B_MASS = 5.27934 #GeV\n",
    "k_MASS = 0.493677 #GeV\n",
    "smin = 4*k_MASS*k_MASS #GeV^2\n",
    "smax = (B_MASS-k_MASS)**2  #GeV^2 \n",
    "nBins = 300"
   ]
  },
  {
   "cell_type": "code",
   "execution_count": 5,
   "metadata": {},
   "outputs": [],
   "source": [
    "s12 = Observable(\"s12\",smin,smax)\n",
    "s13 = Observable(\"s13\",smin,smax)\n",
    "eventNumber = EventNumber(\"eventNumber\")\n",
    "\n",
    "s12.setNumBins(nBins)\n",
    "s13.setNumBins(nBins)\n",
    "\n",
    "Mother_Mass = Variable(\"Mother_Mass\",B_MASS)\n",
    "Daughter1_Mass = Variable(\"Daughter1_Mass\",k_MASS)\n",
    "Daughter2_Mass = Variable(\"Daughter2_Mass\",k_MASS)\n",
    "Daughter3_Mass = Variable(\"Daughter3_Mass\",k_MASS)\n",
    "\n",
    "B2KKK = DecayInfo3()\n",
    "B2KKK.motherMass = B_MASS\n",
    "B2KKK.daug1Mass = k_MASS\n",
    "B2KKK.daug2Mass = k_MASS\n",
    "B2KKK.daug3Mass = k_MASS\n",
    "B2KKK.meson_radius = 1.5\n",
    "B2KKK.mother_meson_radius = 5.0\n",
    "\n",
    "constantOne = Variable(\"constantOne\", 1)\n",
    "constantZero = Variable(\"constantZero\", 0)"
   ]
  },
  {
   "cell_type": "markdown",
   "metadata": {},
   "source": [
    "## Phase space info"
   ]
  },
  {
   "cell_type": "code",
   "execution_count": 6,
   "metadata": {},
   "outputs": [
    {
     "name": "stdout",
     "output_type": "stream",
     "text": [
      "s12: 0 (300 bins) [0.974868, 22.9026]\n",
      "s13: 0 (300 bins) [0.974868, 22.9026]\n"
     ]
    }
   ],
   "source": [
    "print(s12)\n",
    "print(s13)"
   ]
  },
  {
   "cell_type": "markdown",
   "metadata": {},
   "source": [
    "## Signal PDF"
   ]
  },
  {
   "cell_type": "code",
   "execution_count": 7,
   "metadata": {},
   "outputs": [],
   "source": [
    "def makePolyEff():\n",
    "    observables = (s12,s13)\n",
    "    offsets = (constantZero,constantZero,)\n",
    "    coefficients = (constantOne,)\n",
    "    \n",
    "    return PolynomialPdf(\"constantEff\", observables, coefficients, offsets, 0)"
   ]
  },
  {
   "cell_type": "code",
   "execution_count": 8,
   "metadata": {},
   "outputs": [],
   "source": [
    "def makesignal(eff):\n",
    "    phi_re = Variable(\"phi_re\",1.)\n",
    "    phi_im = Variable(\"phi_im\",0.)\n",
    "    phi_mass = Variable(\"phi_mass\",1.019460)\n",
    "    phi_width = Variable(\"phi_width\",0.004247)\n",
    "    \n",
    "    f2p_re = Variable(\"f2p_re\",0.,0.01,0,0)\n",
    "    f2p_im = Variable(\"f2p_im\",1.,0.01,0,0)\n",
    "    f2p_mass = Variable(\"f2p_mass\",1.5245)\n",
    "    f2p_width = Variable(\"f2p_width\",0.0733158) \n",
    "    \n",
    "    nr_re = Variable(\"nr_re\",1.,0.01,0,0)\n",
    "    nr_im = Variable(\"nr_im\",0.,0.01,0,0)\n",
    "    \n",
    "    phi = Resonances.RBW(\"phi\",phi_re,phi_im,phi_mass,phi_width,1,PAIR_12,True,True)\n",
    "    f2p = Resonances.RBW(\"f2\",f2p_re,f2p_im,f2p_mass,f2p_width,2,PAIR_12,True,True)\n",
    "    nr = Resonances.NonRes(\"nr\",nr_re,nr_im)\n",
    "    \n",
    "    B2KKK.resonances = (phi,f2p,nr)\n",
    "    \n",
    "    d = Amp3Body(\"signalPDF\", s12, s13, eventNumber, B2KKK, eff)\n",
    "    \n",
    "    return d"
   ]
  },
  {
   "cell_type": "markdown",
   "metadata": {},
   "source": [
    "## Signal with veto"
   ]
  },
  {
   "cell_type": "code",
   "execution_count": 9,
   "metadata": {},
   "outputs": [],
   "source": [
    "def veto():\n",
    "    DMass = 1.86966 #GeV\n",
    "    veto_12 = VetoInfo(Variable(\"veto_min_12\",(DMass-k_MASS)**2),Variable(\"veto_max_12\",smax),PAIR_12)\n",
    "    veto_13 = VetoInfo(Variable(\"veto_min_13\",(DMass-k_MASS)**2),Variable(\"veto_max_13\",smax),PAIR_13)\n",
    "    vetos = [veto_12,veto_13]\n",
    "    return DalitzVetoPdf(\"veto\", s12, s13, Mother_Mass, Daughter1_Mass, Daughter2_Mass, Daughter3_Mass, vetos)\n",
    "    "
   ]
  },
  {
   "cell_type": "code",
   "execution_count": 10,
   "metadata": {},
   "outputs": [],
   "source": [
    "def makesignalwithveto(eff):\n",
    "    phi_re = Variable(\"phi_re\",1.)\n",
    "    phi_im = Variable(\"phi_im\",0.)\n",
    "    phi_mass = Variable(\"phi_mass\",1.019460)\n",
    "    phi_width = Variable(\"phi_width\",0.004247)\n",
    "    \n",
    "    f2p_re = Variable(\"f2p_re\",0.,0.01,0,0)\n",
    "    f2p_im = Variable(\"f2p_im\",1.,0.01,0,0)\n",
    "    f2p_mass = Variable(\"f2p_mass\",1.5245)\n",
    "    f2p_width = Variable(\"f2p_width\",0.0733158) \n",
    "    \n",
    "    nr_re = Variable(\"nr_re\",1.,0.01,0,0)\n",
    "    nr_im = Variable(\"nr_im\",0.,0.01,0,0)\n",
    "    \n",
    "    phi = Resonances.RBW(\"phi\",phi_re,phi_im,phi_mass,phi_width,1,PAIR_12,True,True)\n",
    "    f2p = Resonances.RBW(\"f2\",f2p_re,f2p_im,f2p_mass,f2p_width,2,PAIR_12,True,True)\n",
    "    nr = Resonances.NonRes(\"nr\",nr_re,nr_im)\n",
    "    \n",
    "    B2KKK.resonances = (phi,f2p,nr)\n",
    "    \n",
    "    observables = (s12,s13)\n",
    "    offsets = (constantZero,constantZero)\n",
    "    coefficients = (constantOne,)\n",
    "    \n",
    "    vetoDp = veto()\n",
    "    \n",
    "    effwithveto=ProdPdf(\"effwithveto\",[vetoDp,eff])\n",
    "    \n",
    "    d = Amp3Body(\"signalPDFwithveto\", s12, s13, eventNumber, B2KKK, effwithveto)\n",
    "    \n",
    "    return d"
   ]
  },
  {
   "cell_type": "markdown",
   "metadata": {},
   "source": [
    "## Make toy and plotting"
   ]
  },
  {
   "cell_type": "code",
   "execution_count": 11,
   "metadata": {},
   "outputs": [],
   "source": [
    "def maketoy(dp):\n",
    "    print(B2KKK)\n",
    "    prod   = ProdPdf(\"totalSignal\",[dp])\n",
    "    dplotted = DalitzPlotter(prod,dp)\n",
    "    toyData = UnbinnedDataSet(s12,s13,eventNumber)\n",
    "    dplotted.fillDataSetMC(toyData,100000)\n",
    "    return toyData"
   ]
  },
  {
   "cell_type": "code",
   "execution_count": 12,
   "metadata": {},
   "outputs": [],
   "source": [
    "def plot(toyData,name):\n",
    "    plt.figure(0,figsize=(15,5))\n",
    "    plt.subplot(1,3,1)\n",
    "    plt.hist2d(toyData[0],toyData[1],bins=[100,100],norm=LogNorm())\n",
    "    plt.subplot(1,3,2)\n",
    "    plt.hist(toyData[0],bins=100,log=False)\n",
    "    plt.subplot(1,3,3)\n",
    "    plt.hist(toyData[1],bins=100,log=False)\n",
    "    plt.savefig(name)\n",
    "    plt.show()"
   ]
  },
  {
   "cell_type": "markdown",
   "metadata": {},
   "source": [
    "## Filling toy sample"
   ]
  },
  {
   "cell_type": "code",
   "execution_count": 13,
   "metadata": {},
   "outputs": [
    {
     "name": "stdout",
     "output_type": "stream",
     "text": [
      "M=5.27934 GeV\n",
      "m1=0.493677\n",
      "GeV\n",
      "m2=0.493677\n",
      "m3=0.493677\n",
      "rad=1.5\n",
      "N res: 3\n"
     ]
    },
    {
     "data": {
      "image/png": "[encoded data removed]",
      "text/plain": [
       "<Figure size 1080x360 with 3 Axes>"
      ]
     },
     "metadata": {
      "needs_background": "light"
     },
     "output_type": "display_data"
    }
   ],
   "source": [
    "eff = makePolyEff()\n",
    "dp = makesignal(eff)\n",
    "toyData = maketoy(dp)\n",
    "plot(toyData,\"B2KKK_Simple_toyData.png\")"
   ]
  },
  {
   "cell_type": "markdown",
   "metadata": {},
   "source": [
    "## Initial Fit fractions"
   ]
  },
  {
   "cell_type": "code",
   "execution_count": 14,
   "metadata": {},
   "outputs": [
    {
     "name": "stdout",
     "output_type": "stream",
     "text": [
      "ff Laura++:\n",
      "phi = 0.344\n",
      "f'2 = 0.333\n",
      "NR = 0.326\n",
      "\n",
      "\n",
      "ff interferences GooFit (%):\n",
      "[[ 2.71011037e-01  0.00000000e+00  0.00000000e+00]\n",
      " [ 6.92007467e-02  9.96574183e+01  0.00000000e+00]\n",
      " [ 8.53041477e-06 -4.48796766e-05  2.40624010e-03]]\n"
     ]
    }
   ],
   "source": [
    "print(\"ff Laura++:\")\n",
    "print(\"phi = 0.344\")\n",
    "print(\"f'2 = 0.333\")\n",
    "print(\"NR = 0.326\")\n",
    "print(\"\\n\")\n",
    "\n",
    "ffs = np.matrix(dp.fit_fractions(True))\n",
    "print(\"ff interferences GooFit (%):\")\n",
    "print(ffs.view())"
   ]
  },
  {
   "cell_type": "markdown",
   "metadata": {},
   "source": [
    "## Fitting signal"
   ]
  },
  {
   "cell_type": "code",
   "execution_count": 15,
   "metadata": {},
   "outputs": [
    {
     "name": "stdout",
     "output_type": "stream",
     "text": [
      "Running fit...\n",
      "\u001b[37m\u001b[1m\u001b[0m\u001b[32m\n",
      "  Valid         : yes\n",
      "  Function calls: 98\n",
      "  Minimum value : 604137.9912346557\n",
      "  Edm           : 0.0000421262\n",
      "  Internal parameters: \n",
      "    -0.0154229188\n",
      "     1.0786952202\n",
      "     2.3508326162\n",
      "    -0.4826484501\n",
      "  Internal covariance matrix: \n",
      "     0.00604726    -0.00001899    -0.00653814    -0.01224350\n",
      "    -0.00001899     0.00160094     0.00368401    -0.00035347\n",
      "    -0.00653814     0.00368401     0.48448251    -0.06525786\n",
      "    -0.01224350    -0.00035347    -0.06525786     0.20695289\n",
      "  External parameters: \n",
      "  Pos |    Name    |  type   |      Value       |    Error +/-\n",
      "    0 |     phi_re |  const  |     1.0000000000 |            \n",
      "    1 |     phi_im |  const  |     0.0000000000 |            \n",
      "    2 |     f2p_re |  free   |    -0.0154229188 | 0.0549875453\n",
      "    3 |     f2p_im |  free   |     1.0786952202 | 0.0282925503\n",
      "    4 |      nr_re |  free   |     2.3508326162 | 0.4921801055\n",
      "    5 |      nr_im |  free   |    -0.4826484501 | 0.3216775460\n",
      "    6 |   phi_mass |  const  |     1.0194600000 |            \n",
      "    7 |  phi_width |  const  |     0.0042470000 |            \n",
      "    8 |   f2p_mass |  const  |     1.5245000000 |            \n",
      "    9 |  f2p_width |  const  |     0.0733158000 |            \n",
      "   10 | constantZero |  const  |     0.0000000000 |            \n",
      "   11 | constantOne |  const  |     1.0000000000 |           \u001b[0m\u001b[35mThe minimization took: 104.4 ms\n",
      "Average time per call: 1.0697 ms\u001b[0m\n",
      "14210404.532929262\n"
     ]
    }
   ],
   "source": [
    "prod   = ProdPdf(\"totalSignal\",[dp])\n",
    "prod.setData(toyData)\n",
    "dp.setDataSize(toyData.getNumEvents())\n",
    "fitter = FitManager(prod)\n",
    "fitter.setVerbosity(1)\n",
    "fitter.setMaxCalls(200000)\n",
    "print('Running fit...')\n",
    "func_min = fitter.fit()\n",
    "print(dp.normalize())"
   ]
  },
  {
   "cell_type": "code",
   "execution_count": 16,
   "metadata": {},
   "outputs": [
    {
     "name": "stdout",
     "output_type": "stream",
     "text": [
      "ff interferences GooFit (%):\n",
      "[[ 2.32939297e-01  0.00000000e+00  0.00000000e+00]\n",
      " [ 6.29612328e-02  9.96900227e+01  0.00000000e+00]\n",
      " [ 1.98944251e-05 -1.59553682e-04  1.42164062e-02]]\n"
     ]
    }
   ],
   "source": [
    "ffs = np.matrix(dp.fit_fractions(True))\n",
    "print(\"ff interferences GooFit (%):\")\n",
    "print(ffs.view())"
   ]
  },
  {
   "cell_type": "code",
   "execution_count": null,
   "metadata": {},
   "outputs": [
    {
     "name": "stdout",
     "output_type": "stream",
     "text": [
      "M=5.27934 GeV\n",
      "m1=0.493677\n",
      "GeV\n",
      "m2=0.493677\n",
      "m3=0.493677\n",
      "rad=1.5\n",
      "N res: 3\n"
     ]
    }
   ],
   "source": [
    "toyAfterFit = maketoy(dp)\n",
    "plot(toyAfterFit,\"B2KKK_Simple_toyData_after.png\")"
   ]
  },
  {
   "cell_type": "markdown",
   "metadata": {},
   "source": [
    "## Fitting signal with veto (Not Running)"
   ]
  },
  {
   "cell_type": "code",
   "execution_count": null,
   "metadata": {},
   "outputs": [],
   "source": [
    "dpwithveto = makesignalwithveto(eff)\n",
    "prodwithveto   = ProdPdf(\"totalSignal_withVeto\",[dpwithveto])"
   ]
  },
  {
   "cell_type": "code",
   "execution_count": null,
   "metadata": {},
   "outputs": [],
   "source": [
    "prodwithveto.setData(toyData)\n",
    "dpwithveto.setDataSize(toyData.getNumEvents())\n",
    "fitter = FitManager(prodwithveto)\n",
    "fitter.setVerbosity(1)\n",
    "fitter.setMaxCalls(200000)\n",
    "print('Running fit...')\n",
    "func_min = fitter.fit()"
   ]
  },
  {
   "cell_type": "code",
   "execution_count": null,
   "metadata": {},
   "outputs": [],
   "source": [
    "ffs = np.matrix(dpwithveto.fit_fractions(True))\n",
    "print(\"ff interferences GooFit (%):\")\n",
    "print(ffs.view())"
   ]
  },
  {
   "cell_type": "code",
   "execution_count": null,
   "metadata": {},
   "outputs": [],
   "source": [
    "toyAfterFitWithVeto = maketoy(dpwithveto)\n",
    "plot(toyAfterFitWithVeto)"
   ]
  }
 ],
 "metadata": {
  "interpreter": {
   "hash": "916dbcbb3f70747c44a77c7bcd40155683ae19c65e1c03b4aa3499c5328201f1"
  },
  "kernelspec": {
   "display_name": "Python 3",
   "language": "python",
   "name": "python3"
  },
  "language_info": {
   "codemirror_mode": {
    "name": "ipython",
    "version": 3
   },
   "file_extension": ".py",
   "mimetype": "text/x-python",
   "name": "python",
   "nbconvert_exporter": "python",
   "pygments_lexer": "ipython3",
   "version": "3.6.8"
  }
 },
 "nbformat": 4,
 "nbformat_minor": 4
}
