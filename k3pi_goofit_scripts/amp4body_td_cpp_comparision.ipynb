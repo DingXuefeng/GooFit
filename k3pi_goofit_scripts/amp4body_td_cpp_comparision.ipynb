{
 "cells": [
  {
   "cell_type": "code",
   "execution_count": 1,
   "id": "27614aec-ac16-49d6-976d-f51f269607d7",
   "metadata": {},
   "outputs": [],
   "source": [
    "import numpy as np\n",
    "import pandas as pd\n",
    "import matplotlib.pyplot as plt"
   ]
  },
  {
   "cell_type": "code",
   "execution_count": 2,
   "id": "c07d7409-0e87-4d7d-b30d-95b7ec3a0cc2",
   "metadata": {},
   "outputs": [],
   "source": [
    "columns = ['m12','m34','c12','c34','phi','dtime']"
   ]
  },
  {
   "cell_type": "code",
   "execution_count": 3,
   "id": "4ab9cfb8-54dd-4abd-abbd-6e6a65156b11",
   "metadata": {},
   "outputs": [],
   "source": [
    "df = pd.read_csv('amp4body_cpp_generated_events.txt',names=columns,delimiter=\" \")"
   ]
  },
  {
   "cell_type": "code",
   "execution_count": 4,
   "id": "ee60a343-4dfc-4893-9328-34dae5272d3d",
   "metadata": {},
   "outputs": [
    {
     "data": {
      "text/html": [
       "<div>\n",
       "<style scoped>\n",
       "    .dataframe tbody tr th:only-of-type {\n",
       "        vertical-align: middle;\n",
       "    }\n",
       "\n",
       "    .dataframe tbody tr th {\n",
       "        vertical-align: top;\n",
       "    }\n",
       "\n",
       "    .dataframe thead th {\n",
       "        text-align: right;\n",
       "    }\n",
       "</style>\n",
       "<table border=\"1\" class=\"dataframe\">\n",
       "  <thead>\n",
       "    <tr style=\"text-align: right;\">\n",
       "      <th></th>\n",
       "      <th>m12</th>\n",
       "      <th>m34</th>\n",
       "      <th>c12</th>\n",
       "      <th>c34</th>\n",
       "      <th>phi</th>\n",
       "      <th>dtime</th>\n",
       "    </tr>\n",
       "  </thead>\n",
       "  <tbody>\n",
       "    <tr>\n",
       "      <th>0</th>\n",
       "      <td>0.671001</td>\n",
       "      <td>0.831382</td>\n",
       "      <td>-0.436892</td>\n",
       "      <td>0.495430</td>\n",
       "      <td>-0.221171</td>\n",
       "      <td>0.409216</td>\n",
       "    </tr>\n",
       "    <tr>\n",
       "      <th>1</th>\n",
       "      <td>0.619096</td>\n",
       "      <td>0.847627</td>\n",
       "      <td>-0.295147</td>\n",
       "      <td>0.766930</td>\n",
       "      <td>0.936586</td>\n",
       "      <td>0.072788</td>\n",
       "    </tr>\n",
       "    <tr>\n",
       "      <th>2</th>\n",
       "      <td>0.765407</td>\n",
       "      <td>0.873153</td>\n",
       "      <td>-0.857152</td>\n",
       "      <td>0.340052</td>\n",
       "      <td>0.340606</td>\n",
       "      <td>0.219280</td>\n",
       "    </tr>\n",
       "    <tr>\n",
       "      <th>3</th>\n",
       "      <td>0.748098</td>\n",
       "      <td>0.869027</td>\n",
       "      <td>0.905232</td>\n",
       "      <td>-0.803669</td>\n",
       "      <td>-1.467540</td>\n",
       "      <td>0.067560</td>\n",
       "    </tr>\n",
       "    <tr>\n",
       "      <th>4</th>\n",
       "      <td>0.798197</td>\n",
       "      <td>0.904782</td>\n",
       "      <td>0.739354</td>\n",
       "      <td>-0.879351</td>\n",
       "      <td>1.458350</td>\n",
       "      <td>0.655378</td>\n",
       "    </tr>\n",
       "  </tbody>\n",
       "</table>\n",
       "</div>"
      ],
      "text/plain": [
       "        m12       m34       c12       c34       phi     dtime\n",
       "0  0.671001  0.831382 -0.436892  0.495430 -0.221171  0.409216\n",
       "1  0.619096  0.847627 -0.295147  0.766930  0.936586  0.072788\n",
       "2  0.765407  0.873153 -0.857152  0.340052  0.340606  0.219280\n",
       "3  0.748098  0.869027  0.905232 -0.803669 -1.467540  0.067560\n",
       "4  0.798197  0.904782  0.739354 -0.879351  1.458350  0.655378"
      ]
     },
     "execution_count": 4,
     "metadata": {},
     "output_type": "execute_result"
    }
   ],
   "source": [
    "df.head()"
   ]
  },
  {
   "cell_type": "code",
   "execution_count": 5,
   "id": "015c4f18-217d-4024-94dc-d020c07aa242",
   "metadata": {},
   "outputs": [],
   "source": [
    "#plotting labels\n",
    "m12label = r'm$_{\\pi^{\\mp}\\pi^{\\pm}}$ [GeV/c$^{2}$]'\n",
    "m34label = r'm$_{K^{\\mp}\\pi^{\\pm}}$ [GeV/c$^{2}$]'\n",
    "c12label = r'$cos(\\theta_{1})$ [rad]'\n",
    "c34label = r'$cos(\\theta_{2})$ [rad]'\n",
    "philabel = r'$\\phi$ [rad]' \n",
    "dTimeLabel = r'$D^{0}$ Decay Time [ns]'"
   ]
  },
  {
   "cell_type": "code",
   "execution_count": 6,
   "id": "66e819f7-ff13-4994-84ca-f5bc3141f049",
   "metadata": {},
   "outputs": [],
   "source": [
    "def draw_distributions(original, columns=columns):\n",
    "    plt.figure(figsize=[16, 8])\n",
    "    for id, column in enumerate(columns, 1):\n",
    "        xlim = np.percentile(np.hstack([original[column]]), [0.01, 99.99])\n",
    "        plt.subplot(2, 3, id)\n",
    "        plt.hist(original[column], range=xlim, bins=100,histtype='step')\n",
    "        if column == 'm12' or 'm12' in column:\n",
    "            plt.xlabel(m12label,fontsize=14)\n",
    "        if column == 'm34' or 'm34' in column:\n",
    "            plt.xlabel(m34label,fontsize=14)\n",
    "        if column == 'c12' or 'c12' in column:\n",
    "            plt.xlabel(c12label,fontsize=14)\n",
    "        if column == 'c34' or 'c34' in column:\n",
    "            plt.xlabel(c34label,fontsize=14)\n",
    "        if column == 'phi' or 'phi' in column:\n",
    "            plt.xlabel(philabel,fontsize=14)\n",
    "        if column == 'dtime':\n",
    "            plt.xlabel(dTimeLabel,fontsize=14)\n",
    "        "
   ]
  },
  {
   "cell_type": "code",
   "execution_count": 7,
   "id": "74323a76-21e4-4979-8cd7-5d16c43decc7",
   "metadata": {},
   "outputs": [
    {
     "data": {
      "image/png": "[encoded data removed]",
      "text/plain": [
       "<Figure size 1152x576 with 6 Axes>"
      ]
     },
     "metadata": {
      "needs_background": "light"
     },
     "output_type": "display_data"
    }
   ],
   "source": [
    "draw_distributions(df,columns)"
   ]
  },
  {
   "cell_type": "code",
   "execution_count": 8,
   "id": "6c03b3c6-0e14-4d4b-9e04-e4dc03c81e9f",
   "metadata": {},
   "outputs": [],
   "source": [
    "false_df = pd.read_csv('amp4body_cpp_generated_events_false.txt',names=columns,delimiter=\" \")"
   ]
  },
  {
   "cell_type": "code",
   "execution_count": 11,
   "id": "446fa9ab-0d65-4db6-8f11-6a11c2f41570",
   "metadata": {},
   "outputs": [],
   "source": [
    "false_df = false_df.head(200000)"
   ]
  },
  {
   "cell_type": "code",
   "execution_count": null,
   "id": "f8abe57d-04aa-41f9-8db5-600423d70216",
   "metadata": {},
   "outputs": [],
   "source": [
    "draw_distributions(false_df,columns)"
   ]
  },
  {
   "cell_type": "code",
   "execution_count": null,
   "id": "973418d1-aa58-45bc-b6d0-660060d07758",
   "metadata": {},
   "outputs": [],
   "source": []
  }
 ],
 "metadata": {
  "kernelspec": {
   "display_name": "Python 3 (ipykernel)",
   "language": "python",
   "name": "python3"
  },
  "language_info": {
   "codemirror_mode": {
    "name": "ipython",
    "version": 3
   },
   "file_extension": ".py",
   "mimetype": "text/x-python",
   "name": "python",
   "nbconvert_exporter": "python",
   "pygments_lexer": "ipython3",
   "version": "3.9.7"
  }
 },
 "nbformat": 4,
 "nbformat_minor": 5
}
